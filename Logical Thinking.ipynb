{
 "cells": [
  {
   "cell_type": "markdown",
   "id": "f554d190",
   "metadata": {},
   "source": [
    "## BÀI 1: LOGICAL THINKING"
   ]
  },
  {
   "cell_type": "markdown",
   "id": "26f4751d",
   "metadata": {},
   "source": [
    "Tú là một người bán hàng và đang muốn bán mĩ phẩm online. Sau một hồi nghiên cứu tìm hiểu thì anh ta quyết định lựa chọn bán hàng trên một sàn thương mại điện tử tên là ABC.vn vì đây có vẻ là một sàn thương mại điện tử uy tín. Tuy nhiên anh ta còn đang băn khoăn không biết rằng liệu tổng số đơn hàng và doanh thu mà anh ta sẽ kiếm được thông qua website ABC.vn liệu sẽ là bao nhiêu và muốn nhận được tư vấn từ team ABC.vn. Với vai trò là data analyst của ABC.vn và bạn có quyền truy cập kho dữ liệu của ABC.vn (bao gồm thông tin các đơn hàng, mặt hàng, giá trị đơn hàng, v.v.), bạn sẽ ước lượng doanh số bán hàng thông trên ABC.vn cho Tú như thế nào?\n",
    "Hãy tự đưa ra những giả định cần thiết để phục vụ cho câu trả lời của bạn.\n"
   ]
  },
  {
   "cell_type": "markdown",
   "id": "27923566",
   "metadata": {},
   "source": [
    "1. Tổng hợp dữ liệu\n",
    "2. Trực quan hóa dữ liệu\n",
    "3. Đưa ra nhận định"
   ]
  },
  {
   "cell_type": "markdown",
   "id": "5a955b9b",
   "metadata": {},
   "source": [
    "1. Tổng hợp dữ liệu: Lấy các thông tin về đơn hàng của tất cả các gian hàng kinh doanh Category Mỹ phẩm trên sàn ABC.vn\n",
    "- Số lượng gian hàng\n",
    "- Các đơn hàng (Order)\n",
    "- Thời gian đặt hàng (OrderDate)\n",
    "- Các mặt hàng (SubCategory)\n",
    "- Số lượng sản phẩm (Quantity)\n",
    "- Giá trị đơn hàng "
   ]
  },
  {
   "cell_type": "markdown",
   "id": "0a4221e2",
   "metadata": {},
   "source": [
    "2. Trực quan hóa dữ liệu: Các chỉ số\n",
    "- Tổng số gian hàng\n",
    "- Tổng Doanh thu\n",
    "- Tổng Số lượng đơn hàng\n",
    "- Trung bình Doanh thu/Gian hàng = Tổng doanh thu/Số lượng gian hàng  \n",
    "- Trung bình Số lượng đơn hàng/Gian hàng = Tổng số đơn hàng/Gian hàng\n",
    "- Doanh thu và Số lượng Order theo thời gian đặt hàng (OrderDate)\n",
    "- Doanh thu và Số lượng sản phẩm theo Subcategory"
   ]
  },
  {
   "cell_type": "markdown",
   "id": "6b42223e",
   "metadata": {},
   "source": [
    "3. Đưa ra nhận định\n",
    "- Dựa vào tổng số Gian hàng, anh Tú có cái nhìn tổng thể về cơ hội và thách thức cạnh tranh trong thị trường Mỹ phẩm trên sàn TMĐT.\n",
    "- Dựa vào Trung bình doanh thu và Trung bình số lượng đơn hàng/gian hàng, anh Tú có thể biết được trung bình 1 gian hàng kinh doanh Mỹ phẩm trên sàn ABC.vn kiếm được Doanh số và Số lượng Order là bao nhiêu.\n",
    "- Dựa trên bộ lọc thời gian (OrderDate), anh Tú có thể biết được tình hình kinh doanh Mỹ phẩm chung của sàn TMĐT: Thời điểm nào bán hàng tốt, không tốt để lên kế hoạch mở Gian hàng (Đăng ký và chuẩn bị sản phẩm trong các tháng thấp điểm Sales và mở bán vào các tháng cao điểm).\n",
    "- Dựa trên doanh thu và số lượng sản phẩm bán được theo SubCategory, anh Tú có thể nắm được chi tiết về tình hình bán hàng các sản phẩm mà anh chuẩn bị kinh doanh, từ đó có sự chuẩn bị về hàng hóa cũng như lên ý tưởng cho các chiến dịch khuyến mãi, quảng cáo nhằm thu hút khách hàng."
   ]
  },
  {
   "cell_type": "markdown",
   "id": "a24ad05b",
   "metadata": {},
   "source": [
    "## Bài 2: CASE STUDY"
   ]
  },
  {
   "cell_type": "markdown",
   "id": "0c737df7",
   "metadata": {},
   "source": [
    "Một người bán hàng trên ABC.vn thường trải qua các bước sau:\n",
    "- Đăng ký-> Account của người bán được kích hoạt bởi ABC team-> Listing sản phẩm (upload thông tin, hình ảnh) -> Chuẩn bị sản phẩm để sẵn sàng bán (Stocking to make products available for sales) -> Phát sinh giao dịch\n",
    "\n",
    "Dựa trên dữ liệu được cung cấp, hãy cho biết có vấn đề gì đang xảy ra với ABC.vn. ABC.vn hoạt động có hiệu quả không? Bạn có những đề xuất gì để giúp cải thiện hoạt động của ABC.vn?\n",
    "Hãy clean, tính toán và tổng hợp data, sau đó visualize data để trình bày các nhận định và đề xuất của bạn. Bạn có thể sử dụng bất kỳ ngôn ngữ hay công cụ nào mình muốn.\n"
   ]
  },
  {
   "cell_type": "markdown",
   "id": "ccb9dfdf",
   "metadata": {},
   "source": [
    "##### BƯỚC 1: IMPORT LIBRARY"
   ]
  },
  {
   "cell_type": "code",
   "execution_count": 2,
   "id": "bd1160f0",
   "metadata": {},
   "outputs": [
    {
     "name": "stdout",
     "output_type": "stream",
     "text": [
      "Completed import lib\n"
     ]
    }
   ],
   "source": [
    "#import lib\n",
    "#import thư viện\n",
    "import pandas as pd\n",
    "import numpy as np\n",
    "import matplotlib.pyplot as plt\n",
    "import seaborn as sns\n",
    "\n",
    "print('Completed import lib')"
   ]
  },
  {
   "cell_type": "markdown",
   "id": "fe9b6fdd",
   "metadata": {},
   "source": [
    "##### BƯỚC 2: IMPORT FILE DỮ LIỆU"
   ]
  },
  {
   "cell_type": "code",
   "execution_count": 3,
   "id": "0e3d92b6",
   "metadata": {},
   "outputs": [],
   "source": [
    "df=pd.read_csv(r'D:\\Hoc_ky_2\\Final Test\\Final\\Logical Thinking\\data_ecommerce.csv')"
   ]
  },
  {
   "cell_type": "code",
   "execution_count": 4,
   "id": "e7fbed34",
   "metadata": {
    "scrolled": true
   },
   "outputs": [
    {
     "name": "stdout",
     "output_type": "stream",
     "text": [
      "<class 'pandas.core.frame.DataFrame'>\n",
      "RangeIndex: 2145 entries, 0 to 2144\n",
      "Data columns (total 11 columns):\n",
      " #   Column                  Non-Null Count  Dtype \n",
      "---  ------                  --------------  ----- \n",
      " 0   Seller ID               2145 non-null   int64 \n",
      " 1   Seller's Main Category  2145 non-null   object\n",
      " 2   Sign-up Time            2145 non-null   object\n",
      " 3   Activation Time         2145 non-null   object\n",
      " 4   1st Listing             2145 non-null   object\n",
      " 5   1st Salable             2145 non-null   object\n",
      " 6   1st Transaction         2145 non-null   object\n",
      " 7   Register                2145 non-null   int64 \n",
      " 8   Update                  2145 non-null   int64 \n",
      " 9   Salable                 2145 non-null   int64 \n",
      " 10  Transaction             2145 non-null   int64 \n",
      "dtypes: int64(5), object(6)\n",
      "memory usage: 184.5+ KB\n"
     ]
    }
   ],
   "source": [
    "df.info()"
   ]
  },
  {
   "cell_type": "code",
   "execution_count": 5,
   "id": "0c46eae7",
   "metadata": {},
   "outputs": [],
   "source": [
    "df['Total Time']=df['Register']+df['Update']+df['Salable']+df['Transaction']"
   ]
  },
  {
   "cell_type": "markdown",
   "id": "56424a7b",
   "metadata": {},
   "source": [
    "File dữ liệu đã được tính toán thêm 4 cột dựa vào các giai đoạn thời gian của File dữ liệu gốc bao gồm:\n",
    "- Register: Số ngày kể từ khi đăng ký đến khi tài khoản bán hàng được kích hoạt\n",
    "- Update: Thời gian Listing sản phẩm\n",
    "- Salable: Thời gian chuẩn bị sản phẩm để sẵn sàng bán\n",
    "- Transaction: Thời gian phát sinh giao dịch"
   ]
  },
  {
   "cell_type": "markdown",
   "id": "88814a69",
   "metadata": {},
   "source": [
    "##### BƯỚC 3: PHÂN TÍCH"
   ]
  },
  {
   "cell_type": "code",
   "execution_count": 93,
   "id": "333016da",
   "metadata": {},
   "outputs": [
    {
     "data": {
      "text/html": [
       "<div>\n",
       "<style scoped>\n",
       "    .dataframe tbody tr th:only-of-type {\n",
       "        vertical-align: middle;\n",
       "    }\n",
       "\n",
       "    .dataframe tbody tr th {\n",
       "        vertical-align: top;\n",
       "    }\n",
       "\n",
       "    .dataframe thead th {\n",
       "        text-align: right;\n",
       "    }\n",
       "</style>\n",
       "<table border=\"1\" class=\"dataframe\">\n",
       "  <thead>\n",
       "    <tr style=\"text-align: right;\">\n",
       "      <th></th>\n",
       "      <th>Seller ID</th>\n",
       "      <th>Register</th>\n",
       "      <th>Update</th>\n",
       "      <th>Salable</th>\n",
       "      <th>Transaction</th>\n",
       "      <th>Total Time</th>\n",
       "    </tr>\n",
       "  </thead>\n",
       "  <tbody>\n",
       "    <tr>\n",
       "      <th>count</th>\n",
       "      <td>2145.000000</td>\n",
       "      <td>2145.000000</td>\n",
       "      <td>2145.000000</td>\n",
       "      <td>2145.000000</td>\n",
       "      <td>2145.000000</td>\n",
       "      <td>2145.000000</td>\n",
       "    </tr>\n",
       "    <tr>\n",
       "      <th>mean</th>\n",
       "      <td>1073.000000</td>\n",
       "      <td>16.342191</td>\n",
       "      <td>12.070396</td>\n",
       "      <td>12.218182</td>\n",
       "      <td>11.131469</td>\n",
       "      <td>51.762238</td>\n",
       "    </tr>\n",
       "    <tr>\n",
       "      <th>std</th>\n",
       "      <td>619.352484</td>\n",
       "      <td>23.741817</td>\n",
       "      <td>25.682007</td>\n",
       "      <td>20.501819</td>\n",
       "      <td>20.380166</td>\n",
       "      <td>43.541961</td>\n",
       "    </tr>\n",
       "    <tr>\n",
       "      <th>min</th>\n",
       "      <td>1.000000</td>\n",
       "      <td>0.000000</td>\n",
       "      <td>-129.000000</td>\n",
       "      <td>-2.000000</td>\n",
       "      <td>-9.000000</td>\n",
       "      <td>1.000000</td>\n",
       "    </tr>\n",
       "    <tr>\n",
       "      <th>25%</th>\n",
       "      <td>537.000000</td>\n",
       "      <td>4.000000</td>\n",
       "      <td>0.000000</td>\n",
       "      <td>1.000000</td>\n",
       "      <td>1.000000</td>\n",
       "      <td>22.000000</td>\n",
       "    </tr>\n",
       "    <tr>\n",
       "      <th>50%</th>\n",
       "      <td>1073.000000</td>\n",
       "      <td>8.000000</td>\n",
       "      <td>6.000000</td>\n",
       "      <td>5.000000</td>\n",
       "      <td>4.000000</td>\n",
       "      <td>39.000000</td>\n",
       "    </tr>\n",
       "    <tr>\n",
       "      <th>75%</th>\n",
       "      <td>1609.000000</td>\n",
       "      <td>19.000000</td>\n",
       "      <td>18.000000</td>\n",
       "      <td>14.000000</td>\n",
       "      <td>12.000000</td>\n",
       "      <td>69.000000</td>\n",
       "    </tr>\n",
       "    <tr>\n",
       "      <th>max</th>\n",
       "      <td>2145.000000</td>\n",
       "      <td>278.000000</td>\n",
       "      <td>209.000000</td>\n",
       "      <td>241.000000</td>\n",
       "      <td>193.000000</td>\n",
       "      <td>385.000000</td>\n",
       "    </tr>\n",
       "  </tbody>\n",
       "</table>\n",
       "</div>"
      ],
      "text/plain": [
       "         Seller ID     Register       Update      Salable  Transaction  \\\n",
       "count  2145.000000  2145.000000  2145.000000  2145.000000  2145.000000   \n",
       "mean   1073.000000    16.342191    12.070396    12.218182    11.131469   \n",
       "std     619.352484    23.741817    25.682007    20.501819    20.380166   \n",
       "min       1.000000     0.000000  -129.000000    -2.000000    -9.000000   \n",
       "25%     537.000000     4.000000     0.000000     1.000000     1.000000   \n",
       "50%    1073.000000     8.000000     6.000000     5.000000     4.000000   \n",
       "75%    1609.000000    19.000000    18.000000    14.000000    12.000000   \n",
       "max    2145.000000   278.000000   209.000000   241.000000   193.000000   \n",
       "\n",
       "        Total Time  \n",
       "count  2145.000000  \n",
       "mean     51.762238  \n",
       "std      43.541961  \n",
       "min       1.000000  \n",
       "25%      22.000000  \n",
       "50%      39.000000  \n",
       "75%      69.000000  \n",
       "max     385.000000  "
      ]
     },
     "execution_count": 93,
     "metadata": {},
     "output_type": "execute_result"
    }
   ],
   "source": [
    "df.describe()"
   ]
  },
  {
   "cell_type": "code",
   "execution_count": 94,
   "id": "6de61e16",
   "metadata": {
    "scrolled": true
   },
   "outputs": [
    {
     "data": {
      "image/png": "[encoded data removed]",
      "text/plain": [
       "<Figure size 432x288 with 1 Axes>"
      ]
     },
     "metadata": {
      "needs_background": "light"
     },
     "output_type": "display_data"
    }
   ],
   "source": [
    "fig=sns.boxenplot(data=df,x='Total Time',y=\"Seller's Main Category\")\n",
    "fig.set(title='Total Time',xlabel='Day')\n",
    "plt.show()"
   ]
  },
  {
   "cell_type": "markdown",
   "id": "17aa6e78",
   "metadata": {},
   "source": [
    "Qua ghi nhận thông tin của 2145 Sellers về thời gian kể từ khi Seller đăng ký bán hàng trên sàn TMĐT ABC đến khi sản phẩm đầu tiên của họ đến với tay khách hàng, ta nhận thấy:\n",
    "- Thời gian trung bình từ khi Seller đăng ký bán hàng đến khi phát sinh giao dịch đầu tiên là 39 ngày.\n"
   ]
  },
  {
   "cell_type": "code",
   "execution_count": 95,
   "id": "8136b00f",
   "metadata": {
    "scrolled": false
   },
   "outputs": [
    {
     "data": {
      "image/png": "[encoded data removed]",
      "text/plain": [
       "<Figure size 432x288 with 1 Axes>"
      ]
     },
     "metadata": {
      "needs_background": "light"
     },
     "output_type": "display_data"
    }
   ],
   "source": [
    "fig=sns.boxenplot(data=df,x='Register',y=\"Seller's Main Category\")\n",
    "fig.set(title='Register Time',xlabel='Day')\n",
    "plt.show()"
   ]
  },
  {
   "cell_type": "markdown",
   "id": "6b794dfb",
   "metadata": {},
   "source": [
    "Bước tốn nhiều thời gian nhất là khi Chờ account bán hàng được kích hoạt bởi team ABC, trong đó: \n",
    "Có một nửa số tài khoản được xác nhận trong vòng 8 ngày (~1 tuần) và 19 ngày là khoảng thời gian 75% số đề nghị được ghi nhận. Tuy nhiên, 25% số đề nghị còn lại bị xử lý khá chậm chễ, dao động trong khoảng thời gian tương đối lớn, từ 20 ngày (~3 tuần) đến cá biệt có những đơn hàng chỉ được chấp nhận sau 278 ngày (~9 tháng) thuộc Category BBFF (Nhóm ngành có sự biến động lớn về thời gian đăng ký) hoặc Category Digital Service cũng có thời gian phê duyệt lâu hơn các ngành hàng khác.\n"
   ]
  },
  {
   "cell_type": "code",
   "execution_count": 96,
   "id": "6e3ac054",
   "metadata": {},
   "outputs": [
    {
     "data": {
      "image/png": "[encoded data removed]",
      "text/plain": [
       "<Figure size 432x288 with 1 Axes>"
      ]
     },
     "metadata": {
      "needs_background": "light"
     },
     "output_type": "display_data"
    }
   ],
   "source": [
    "fig=sns.boxenplot(data=df,x='Update',y=\"Seller's Main Category\")\n",
    "fig.set(title='Update Time',xlabel='Day')\n",
    "plt.show()"
   ]
  },
  {
   "cell_type": "markdown",
   "id": "b59b954a",
   "metadata": {},
   "source": [
    "+ Bước Update thông tin về sản phẩm được thực hiện tốt hơn vì hơn một nữa đã được update chỉ trong vòng 6 ngày, thậm chí có những gian hàng đã update trước khoảng 4 tháng (129 ngày) khi tài khoản của họ được kích hoạt. Ngược lại có nhiều người bán hàng update sản phẩm sau khoảng thời gian rất muộn, đây có thể là những gian hàng có lượng sản phẩm với số lượng lớn và đa dạng mẫu mã cũng như cần những thông tin chi tiết về các sản phẩm (BBFF Category, LifeStyle)."
   ]
  },
  {
   "cell_type": "code",
   "execution_count": 67,
   "id": "5b54814b",
   "metadata": {},
   "outputs": [
    {
     "data": {
      "image/png": "[encoded data removed]",
      "text/plain": [
       "<Figure size 432x288 with 1 Axes>"
      ]
     },
     "metadata": {
      "needs_background": "light"
     },
     "output_type": "display_data"
    }
   ],
   "source": [
    "fig=sns.boxenplot(data=df,x='Salable',y=\"Seller's Main Category\")\n",
    "fig.set(title='Salable Time',xlabel='Day')\n",
    "plt.show()"
   ]
  },
  {
   "cell_type": "markdown",
   "id": "5c639597",
   "metadata": {},
   "source": [
    "- Trung bình một nửa Gian hàng có Khoảng thời gian chuẩn bị sản phẩm để sẵn sàng bán là trong vòng 5 ngày và 25% tiếp theo được hoàn thành sau 14 ngày. \n",
    "- Hai Category là Electronic và BBFF là 2 lĩnh vực có thời gian chuẩn bị biến động nhất của toàn bộ các gian hàng."
   ]
  },
  {
   "cell_type": "code",
   "execution_count": 68,
   "id": "61b4e7ee",
   "metadata": {},
   "outputs": [
    {
     "data": {
      "image/png": "[encoded data removed]",
      "text/plain": [
       "<Figure size 432x288 with 1 Axes>"
      ]
     },
     "metadata": {
      "needs_background": "light"
     },
     "output_type": "display_data"
    }
   ],
   "source": [
    "fig=sns.boxenplot(data=df,x='Transaction',y=\"Seller's Main Category\")\n",
    "fig.set(title='First Transaction Time',xlabel='Day')\n",
    "plt.show()"
   ]
  },
  {
   "cell_type": "markdown",
   "id": "17307997",
   "metadata": {},
   "source": [
    "- Thời gian mà gian hàng phát sinh giao dịch đầu tiên phụ thuộc chủ yếu vào ngành hàng mà họ đang kinh doanh. Trung bình 50% gian hàng sẽ phát sinh giao dịch chỉ sau 4 ngày mở bán. Có nhiều gian hàng đã phát sinh giao dịch trước cả thời gian mở bán hàng.\n",
    "- Các ngành hàng như BBFF và Book với giá cả phải chăng và tiếp cận được một tệp khách hàng lớn sẽ có giao dịch nhanh hơn.\n",
    "- Trong khi đó, Digital Service là sản phẩm có thời gian phát sinh giao dịch đầu tiên lâu nhất vì tính chất sản phẩm cũng như kén khách hàng hơn.\n",
    "- Category LifeStyle là ngành hàng có biến động về thời gian nhận được giao dịch đầu tiên lớn nhất trong giai đoạn này."
   ]
  },
  {
   "cell_type": "markdown",
   "id": "b9262e05",
   "metadata": {},
   "source": [
    "##### BƯỚC 4: ĐỀ XUẤT CẢI THIỆN "
   ]
  },
  {
   "cell_type": "markdown",
   "id": "0629bc74",
   "metadata": {},
   "source": [
    "1. RÚT NGẮN THỜI GIAN PHÊ DUYỆT ĐĂNG KÝ BÁN HÀNG:\n",
    "- Đơn giản hóa - Tối ưu hóa thủ tục đăng ký bán hàng.\n",
    "- Tuyển thêm nhân sự."
   ]
  },
  {
   "cell_type": "markdown",
   "id": "1c2a20a4",
   "metadata": {},
   "source": [
    "2. RÚT NGẮN THỜI GIAN UPDATE THÔNG TIN SẢN PHẨM:\n",
    "- Chủ động Update thông tin trong khi chờ Đơn đăng ký bán hàng được phê duyệt.\n",
    "Đặc biệt với các gian hàng có mẫu mã sản phẩm đa dạng và có nhiều thông tin sản phẩm cần được update."
   ]
  },
  {
   "cell_type": "markdown",
   "id": "27d68ae3",
   "metadata": {},
   "source": [
    "3. CẢI THIỆN THỜI GIAN PHÁT SINH GIAO DỊCH:\n",
    "- Ưu tiên QUẢNG CÁO dành cho các gian hàng mới để tiếp cận khách hàng.\n",
    "- Làm việc với Seller để áp dụng các hình thức khuyến mãi: giảm giá, free-shipping cho các đơn đặt hàng đầu tiên của gian hàng để kích thích khách hàng chi tiêu và đẩy nhanh tiến độ bán hàng."
   ]
  }
 ],
 "metadata": {
  "kernelspec": {
   "display_name": "Python 3 (ipykernel)",
   "language": "python",
   "name": "python3"
  },
  "language_info": {
   "codemirror_mode": {
    "name": "ipython",
    "version": 3
   },
   "file_extension": ".py",
   "mimetype": "text/x-python",
   "name": "python",
   "nbconvert_exporter": "python",
   "pygments_lexer": "ipython3",
   "version": "3.9.12"
  }
 },
 "nbformat": 4,
 "nbformat_minor": 5
}
